{
 "cells": [
  {
   "cell_type": "code",
   "execution_count": 1,
   "metadata": {
    "collapsed": true
   },
   "outputs": [],
   "source": [
    "import __init__\n",
    "\n",
    "import pandas as pd"
   ]
  },
  {
   "cell_type": "code",
   "execution_count": 16,
   "metadata": {
    "collapsed": false
   },
   "outputs": [
    {
     "data": {
      "text/html": [
       "<div>\n",
       "<table border=\"1\" class=\"dataframe\">\n",
       "  <thead>\n",
       "    <tr style=\"text-align: right;\">\n",
       "      <th></th>\n",
       "      <th>bidirectional</th>\n",
       "      <th>strict</th>\n",
       "      <th>clf</th>\n",
       "      <th>feature</th>\n",
       "      <th>post</th>\n",
       "      <th>f1</th>\n",
       "    </tr>\n",
       "  </thead>\n",
       "  <tbody>\n",
       "    <tr>\n",
       "      <th>47</th>\n",
       "      <td>bidi</td>\n",
       "      <td></td>\n",
       "      <td>RandomForestClassifier</td>\n",
       "      <td>pEuclDist</td>\n",
       "      <td>postNormalize</td>\n",
       "      <td>0.957</td>\n",
       "    </tr>\n",
       "    <tr>\n",
       "      <th>107</th>\n",
       "      <td>bidi</td>\n",
       "      <td>strict</td>\n",
       "      <td>RandomForestClassifier</td>\n",
       "      <td>pEuclDist</td>\n",
       "      <td>postNormalize</td>\n",
       "      <td>0.955</td>\n",
       "    </tr>\n",
       "    <tr>\n",
       "      <th>41</th>\n",
       "      <td>bidi</td>\n",
       "      <td></td>\n",
       "      <td>RandomForestClassifier</td>\n",
       "      <td>pCosSim</td>\n",
       "      <td>postNormalize</td>\n",
       "      <td>0.95</td>\n",
       "    </tr>\n",
       "    <tr>\n",
       "      <th>101</th>\n",
       "      <td>bidi</td>\n",
       "      <td>strict</td>\n",
       "      <td>RandomForestClassifier</td>\n",
       "      <td>pCosSim</td>\n",
       "      <td>postNormalize</td>\n",
       "      <td>0.95</td>\n",
       "    </tr>\n",
       "    <tr>\n",
       "      <th>40</th>\n",
       "      <td>bidi</td>\n",
       "      <td></td>\n",
       "      <td>RandomForestClassifier</td>\n",
       "      <td>pCosSim</td>\n",
       "      <td>postAbs</td>\n",
       "      <td>0.945</td>\n",
       "    </tr>\n",
       "    <tr>\n",
       "      <th>45</th>\n",
       "      <td>bidi</td>\n",
       "      <td></td>\n",
       "      <td>RandomForestClassifier</td>\n",
       "      <td>pEuclDist</td>\n",
       "      <td>noPost</td>\n",
       "      <td>0.945</td>\n",
       "    </tr>\n",
       "    <tr>\n",
       "      <th>100</th>\n",
       "      <td>bidi</td>\n",
       "      <td>strict</td>\n",
       "      <td>RandomForestClassifier</td>\n",
       "      <td>pCosSim</td>\n",
       "      <td>postAbs</td>\n",
       "      <td>0.943</td>\n",
       "    </tr>\n",
       "    <tr>\n",
       "      <th>106</th>\n",
       "      <td>bidi</td>\n",
       "      <td>strict</td>\n",
       "      <td>RandomForestClassifier</td>\n",
       "      <td>pEuclDist</td>\n",
       "      <td>postAbs</td>\n",
       "      <td>0.943</td>\n",
       "    </tr>\n",
       "    <tr>\n",
       "      <th>39</th>\n",
       "      <td>bidi</td>\n",
       "      <td></td>\n",
       "      <td>RandomForestClassifier</td>\n",
       "      <td>pCosSim</td>\n",
       "      <td>noPost</td>\n",
       "      <td>0.941</td>\n",
       "    </tr>\n",
       "    <tr>\n",
       "      <th>46</th>\n",
       "      <td>bidi</td>\n",
       "      <td></td>\n",
       "      <td>RandomForestClassifier</td>\n",
       "      <td>pEuclDist</td>\n",
       "      <td>postAbs</td>\n",
       "      <td>0.941</td>\n",
       "    </tr>\n",
       "  </tbody>\n",
       "</table>\n",
       "</div>"
      ],
      "text/plain": [
       "    bidirectional  strict                     clf    feature           post  \\\n",
       "47           bidi          RandomForestClassifier  pEuclDist  postNormalize   \n",
       "107          bidi  strict  RandomForestClassifier  pEuclDist  postNormalize   \n",
       "41           bidi          RandomForestClassifier    pCosSim  postNormalize   \n",
       "101          bidi  strict  RandomForestClassifier    pCosSim  postNormalize   \n",
       "40           bidi          RandomForestClassifier    pCosSim        postAbs   \n",
       "45           bidi          RandomForestClassifier  pEuclDist         noPost   \n",
       "100          bidi  strict  RandomForestClassifier    pCosSim        postAbs   \n",
       "106          bidi  strict  RandomForestClassifier  pEuclDist        postAbs   \n",
       "39           bidi          RandomForestClassifier    pCosSim         noPost   \n",
       "46           bidi          RandomForestClassifier  pEuclDist        postAbs   \n",
       "\n",
       "        f1  \n",
       "47   0.957  \n",
       "107  0.955  \n",
       "41    0.95  \n",
       "101   0.95  \n",
       "40   0.945  \n",
       "45   0.945  \n",
       "100  0.943  \n",
       "106  0.943  \n",
       "39   0.941  \n",
       "46   0.941  "
      ]
     },
     "execution_count": 16,
     "metadata": {},
     "output_type": "execute_result"
    }
   ],
   "source": [
    "def extractLine(line):\n",
    "    s = line.split()\n",
    "    return s[0][:-4].split('_') + [s[-1]]\n",
    "\n",
    "summaryDf = pd.DataFrame([extractLine(l) for l in open('../data/learnedModel/anto/summary.txt').readlines()],\n",
    "                        columns=['bidirectional', 'strict', 'clf', 'feature', 'post', 'f1'])\n",
    "summaryDf[summaryDf['bidirectional'] != 'bidi'].sort_values('f1', ascending=False)[:10]\n",
    "summaryDf[summaryDf['bidirectional'] == 'bidi'].sort_values('f1', ascending=False)[:10]"
   ]
  },
  {
   "cell_type": "code",
   "execution_count": null,
   "metadata": {
    "collapsed": true
   },
   "outputs": [],
   "source": []
  },
  {
   "cell_type": "code",
   "execution_count": null,
   "metadata": {
    "collapsed": true
   },
   "outputs": [],
   "source": []
  }
 ],
 "metadata": {
  "kernelspec": {
   "display_name": "Python 2",
   "language": "python",
   "name": "python2"
  },
  "language_info": {
   "codemirror_mode": {
    "name": "ipython",
    "version": 2
   },
   "file_extension": ".py",
   "mimetype": "text/x-python",
   "name": "python",
   "nbconvert_exporter": "python",
   "pygments_lexer": "ipython2",
   "version": "2.7.9"
  }
 },
 "nbformat": 4,
 "nbformat_minor": 1
}
